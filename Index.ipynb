{
 "cells": [
  {
   "cell_type": "code",
   "execution_count": 61,
   "id": "38ee2a6b",
   "metadata": {},
   "outputs": [],
   "source": [
    "#DOWNLOADING DATA##"
   ]
  },
  {
   "cell_type": "code",
   "execution_count": 62,
   "id": "a21539ea",
   "metadata": {},
   "outputs": [],
   "source": [
    "import pandas as pd"
   ]
  },
  {
   "cell_type": "code",
   "execution_count": 63,
   "id": "e35b9dc0",
   "metadata": {},
   "outputs": [],
   "source": [
    "gitCloudRepo='https://github.com/543-Van-Deliverables/Deliverable-1/raw/main/'\n",
    "fileName=\"us-counties-2020.csv\""
   ]
  },
  {
   "cell_type": "code",
   "execution_count": 64,
   "id": "7f0d60a5",
   "metadata": {},
   "outputs": [],
   "source": [
    "COVIDSTATECASES=pd.read_csv(gitCloudRepo + fileName)"
   ]
  },
  {
   "cell_type": "code",
   "execution_count": 65,
   "id": "edb375a4",
   "metadata": {},
   "outputs": [],
   "source": [
    "COVIDSTATEDEATHS=pd.read_csv(gitCloudRepo + fileName)"
   ]
  },
  {
   "cell_type": "code",
   "execution_count": 66,
   "id": "cd4b91c9",
   "metadata": {},
   "outputs": [],
   "source": [
    "##CLEANING DATA##"
   ]
  },
  {
   "cell_type": "code",
   "execution_count": 67,
   "id": "af70b4dc",
   "metadata": {},
   "outputs": [
    {
     "data": {
      "text/plain": [
       "(Index(['date', 'geoid', 'county', 'state', 'cases', 'cases_avg',\n",
       "        'cases_avg_per_100k', 'deaths', 'deaths_avg', 'deaths_avg_per_100k'],\n",
       "       dtype='object'),\n",
       " Index(['date', 'geoid', 'county', 'state', 'cases', 'cases_avg',\n",
       "        'cases_avg_per_100k', 'deaths', 'deaths_avg', 'deaths_avg_per_100k'],\n",
       "       dtype='object'))"
      ]
     },
     "execution_count": 67,
     "metadata": {},
     "output_type": "execute_result"
    }
   ],
   "source": [
    "(COVIDSTATECASES.columns,COVIDSTATEDEATHS.columns)"
   ]
  },
  {
   "cell_type": "code",
   "execution_count": 68,
   "id": "30ef3254",
   "metadata": {},
   "outputs": [],
   "source": [
    "toDrop=['geoid','county','cases_avg','cases_avg_per_100k','deaths_avg','deaths_avg_per_100k','deaths']\n",
    "COVIDSTATECASES.drop(columns=toDrop, inplace=True)"
   ]
  },
  {
   "cell_type": "code",
   "execution_count": 69,
   "id": "43755b81",
   "metadata": {},
   "outputs": [],
   "source": [
    "toDrop=['geoid','county','cases_avg','cases_avg_per_100k','deaths_avg','deaths_avg_per_100k','cases']\n",
    "COVIDSTATEDEATHS.drop(columns=toDrop, inplace=True)"
   ]
  },
  {
   "cell_type": "code",
   "execution_count": 70,
   "id": "24d0ba85",
   "metadata": {},
   "outputs": [],
   "source": [
    "COVIDSTATECASES.rename(columns={'date':'Month','cases':'COVIDCases','state':'State'}, inplace=True)"
   ]
  },
  {
   "cell_type": "code",
   "execution_count": 71,
   "id": "7b736130",
   "metadata": {},
   "outputs": [],
   "source": [
    "COVIDSTATEDEATHS.rename(columns={'date':'Month','deaths':'COVIDDeaths','state':'State'}, inplace=True)"
   ]
  },
  {
   "cell_type": "code",
   "execution_count": 72,
   "id": "2a91b677",
   "metadata": {},
   "outputs": [],
   "source": [
    "##FOTMATTING DATA##"
   ]
  },
  {
   "cell_type": "code",
   "execution_count": 73,
   "id": "b68e28f7",
   "metadata": {},
   "outputs": [
    {
     "data": {
      "text/html": [
       "<div>\n",
       "<style scoped>\n",
       "    .dataframe tbody tr th:only-of-type {\n",
       "        vertical-align: middle;\n",
       "    }\n",
       "\n",
       "    .dataframe tbody tr th {\n",
       "        vertical-align: top;\n",
       "    }\n",
       "\n",
       "    .dataframe thead th {\n",
       "        text-align: right;\n",
       "    }\n",
       "</style>\n",
       "<table border=\"1\" class=\"dataframe\">\n",
       "  <thead>\n",
       "    <tr style=\"text-align: right;\">\n",
       "      <th></th>\n",
       "      <th>Month</th>\n",
       "      <th>State</th>\n",
       "      <th>COVIDCases</th>\n",
       "    </tr>\n",
       "  </thead>\n",
       "  <tbody>\n",
       "    <tr>\n",
       "      <th>0</th>\n",
       "      <td>January</td>\n",
       "      <td>Washington</td>\n",
       "      <td>1</td>\n",
       "    </tr>\n",
       "    <tr>\n",
       "      <th>1</th>\n",
       "      <td>January</td>\n",
       "      <td>Washington</td>\n",
       "      <td>0</td>\n",
       "    </tr>\n",
       "    <tr>\n",
       "      <th>2</th>\n",
       "      <td>January</td>\n",
       "      <td>Washington</td>\n",
       "      <td>0</td>\n",
       "    </tr>\n",
       "    <tr>\n",
       "      <th>3</th>\n",
       "      <td>January</td>\n",
       "      <td>Washington</td>\n",
       "      <td>0</td>\n",
       "    </tr>\n",
       "    <tr>\n",
       "      <th>4</th>\n",
       "      <td>January</td>\n",
       "      <td>Illinois</td>\n",
       "      <td>1</td>\n",
       "    </tr>\n",
       "    <tr>\n",
       "      <th>...</th>\n",
       "      <td>...</td>\n",
       "      <td>...</td>\n",
       "      <td>...</td>\n",
       "    </tr>\n",
       "    <tr>\n",
       "      <th>890356</th>\n",
       "      <td>December</td>\n",
       "      <td>Northern Mariana Islands</td>\n",
       "      <td>0</td>\n",
       "    </tr>\n",
       "    <tr>\n",
       "      <th>890357</th>\n",
       "      <td>December</td>\n",
       "      <td>Virgin Islands</td>\n",
       "      <td>0</td>\n",
       "    </tr>\n",
       "    <tr>\n",
       "      <th>890358</th>\n",
       "      <td>December</td>\n",
       "      <td>Virgin Islands</td>\n",
       "      <td>8</td>\n",
       "    </tr>\n",
       "    <tr>\n",
       "      <th>890359</th>\n",
       "      <td>December</td>\n",
       "      <td>Virgin Islands</td>\n",
       "      <td>6</td>\n",
       "    </tr>\n",
       "    <tr>\n",
       "      <th>890360</th>\n",
       "      <td>December</td>\n",
       "      <td>Virgin Islands</td>\n",
       "      <td>7</td>\n",
       "    </tr>\n",
       "  </tbody>\n",
       "</table>\n",
       "<p>890361 rows × 3 columns</p>\n",
       "</div>"
      ],
      "text/plain": [
       "           Month                     State  COVIDCases\n",
       "0        January                Washington           1\n",
       "1        January                Washington           0\n",
       "2        January                Washington           0\n",
       "3        January                Washington           0\n",
       "4        January                  Illinois           1\n",
       "...          ...                       ...         ...\n",
       "890356  December  Northern Mariana Islands           0\n",
       "890357  December            Virgin Islands           0\n",
       "890358  December            Virgin Islands           8\n",
       "890359  December            Virgin Islands           6\n",
       "890360  December            Virgin Islands           7\n",
       "\n",
       "[890361 rows x 3 columns]"
      ]
     },
     "execution_count": 73,
     "metadata": {},
     "output_type": "execute_result"
    }
   ],
   "source": [
    "COVIDSTATECASES.replace(\"\\,\",'',regex=True)"
   ]
  },
  {
   "cell_type": "code",
   "execution_count": 74,
   "id": "d9b1c623",
   "metadata": {},
   "outputs": [
    {
     "data": {
      "text/html": [
       "<div>\n",
       "<style scoped>\n",
       "    .dataframe tbody tr th:only-of-type {\n",
       "        vertical-align: middle;\n",
       "    }\n",
       "\n",
       "    .dataframe tbody tr th {\n",
       "        vertical-align: top;\n",
       "    }\n",
       "\n",
       "    .dataframe thead th {\n",
       "        text-align: right;\n",
       "    }\n",
       "</style>\n",
       "<table border=\"1\" class=\"dataframe\">\n",
       "  <thead>\n",
       "    <tr style=\"text-align: right;\">\n",
       "      <th></th>\n",
       "      <th>Month</th>\n",
       "      <th>State</th>\n",
       "      <th>COVIDDeaths</th>\n",
       "    </tr>\n",
       "  </thead>\n",
       "  <tbody>\n",
       "    <tr>\n",
       "      <th>0</th>\n",
       "      <td>January</td>\n",
       "      <td>Washington</td>\n",
       "      <td>0</td>\n",
       "    </tr>\n",
       "    <tr>\n",
       "      <th>1</th>\n",
       "      <td>January</td>\n",
       "      <td>Washington</td>\n",
       "      <td>0</td>\n",
       "    </tr>\n",
       "    <tr>\n",
       "      <th>2</th>\n",
       "      <td>January</td>\n",
       "      <td>Washington</td>\n",
       "      <td>0</td>\n",
       "    </tr>\n",
       "    <tr>\n",
       "      <th>3</th>\n",
       "      <td>January</td>\n",
       "      <td>Washington</td>\n",
       "      <td>0</td>\n",
       "    </tr>\n",
       "    <tr>\n",
       "      <th>4</th>\n",
       "      <td>January</td>\n",
       "      <td>Illinois</td>\n",
       "      <td>0</td>\n",
       "    </tr>\n",
       "    <tr>\n",
       "      <th>...</th>\n",
       "      <td>...</td>\n",
       "      <td>...</td>\n",
       "      <td>...</td>\n",
       "    </tr>\n",
       "    <tr>\n",
       "      <th>890356</th>\n",
       "      <td>December</td>\n",
       "      <td>Northern Mariana Islands</td>\n",
       "      <td>0</td>\n",
       "    </tr>\n",
       "    <tr>\n",
       "      <th>890357</th>\n",
       "      <td>December</td>\n",
       "      <td>Virgin Islands</td>\n",
       "      <td>0</td>\n",
       "    </tr>\n",
       "    <tr>\n",
       "      <th>890358</th>\n",
       "      <td>December</td>\n",
       "      <td>Virgin Islands</td>\n",
       "      <td>0</td>\n",
       "    </tr>\n",
       "    <tr>\n",
       "      <th>890359</th>\n",
       "      <td>December</td>\n",
       "      <td>Virgin Islands</td>\n",
       "      <td>0</td>\n",
       "    </tr>\n",
       "    <tr>\n",
       "      <th>890360</th>\n",
       "      <td>December</td>\n",
       "      <td>Virgin Islands</td>\n",
       "      <td>0</td>\n",
       "    </tr>\n",
       "  </tbody>\n",
       "</table>\n",
       "<p>890361 rows × 3 columns</p>\n",
       "</div>"
      ],
      "text/plain": [
       "           Month                     State  COVIDDeaths\n",
       "0        January                Washington            0\n",
       "1        January                Washington            0\n",
       "2        January                Washington            0\n",
       "3        January                Washington            0\n",
       "4        January                  Illinois            0\n",
       "...          ...                       ...          ...\n",
       "890356  December  Northern Mariana Islands            0\n",
       "890357  December            Virgin Islands            0\n",
       "890358  December            Virgin Islands            0\n",
       "890359  December            Virgin Islands            0\n",
       "890360  December            Virgin Islands            0\n",
       "\n",
       "[890361 rows x 3 columns]"
      ]
     },
     "execution_count": 74,
     "metadata": {},
     "output_type": "execute_result"
    }
   ],
   "source": [
    "COVIDSTATEDEATHS.replace(\"\\,\",'',regex=True)"
   ]
  },
  {
   "cell_type": "code",
   "execution_count": 75,
   "id": "76604e6f",
   "metadata": {},
   "outputs": [],
   "source": [
    "COVIDSTATECASESFinal=COVIDSTATECASES.replace(\"\\,\",'',regex=True).copy()"
   ]
  },
  {
   "cell_type": "code",
   "execution_count": 76,
   "id": "878187ef",
   "metadata": {},
   "outputs": [],
   "source": [
    "COVIDSTATEDEATHSFinal=COVIDSTATEDEATHS.replace(\"\\,\",'',regex=True).copy()"
   ]
  },
  {
   "cell_type": "code",
   "execution_count": 77,
   "id": "357ec610",
   "metadata": {},
   "outputs": [
    {
     "name": "stdout",
     "output_type": "stream",
     "text": [
      "<class 'pandas.core.frame.DataFrame'>\n",
      "RangeIndex: 890361 entries, 0 to 890360\n",
      "Data columns (total 3 columns):\n",
      " #   Column      Non-Null Count   Dtype \n",
      "---  ------      --------------   ----- \n",
      " 0   Month       890361 non-null  object\n",
      " 1   State       890361 non-null  object\n",
      " 2   COVIDCases  890361 non-null  int64 \n",
      "dtypes: int64(1), object(2)\n",
      "memory usage: 20.4+ MB\n"
     ]
    }
   ],
   "source": [
    "COVIDSTATECASESFinal.info()"
   ]
  },
  {
   "cell_type": "code",
   "execution_count": 78,
   "id": "fa2ed971",
   "metadata": {},
   "outputs": [
    {
     "name": "stdout",
     "output_type": "stream",
     "text": [
      "<class 'pandas.core.frame.DataFrame'>\n",
      "RangeIndex: 890361 entries, 0 to 890360\n",
      "Data columns (total 3 columns):\n",
      " #   Column       Non-Null Count   Dtype \n",
      "---  ------       --------------   ----- \n",
      " 0   Month        890361 non-null  object\n",
      " 1   State        890361 non-null  object\n",
      " 2   COVIDDeaths  890361 non-null  int64 \n",
      "dtypes: int64(1), object(2)\n",
      "memory usage: 20.4+ MB\n"
     ]
    }
   ],
   "source": [
    "COVIDSTATEDEATHSFinal.info()"
   ]
  },
  {
   "cell_type": "code",
   "execution_count": 79,
   "id": "06dd2b8a",
   "metadata": {},
   "outputs": [],
   "source": [
    "##EXPORTING DATA TO CSV##"
   ]
  },
  {
   "cell_type": "code",
   "execution_count": 80,
   "id": "ac915efa",
   "metadata": {},
   "outputs": [],
   "source": [
    "COVIDSTATECASESFinal.to_csv('COVIDSTATECASES.csv', index=False)"
   ]
  },
  {
   "cell_type": "code",
   "execution_count": 81,
   "id": "e1b35928",
   "metadata": {},
   "outputs": [],
   "source": [
    "COVIDSTATEDEATHSFinal.to_csv('COVIDSTATEDEATHS.csv', index=False)"
   ]
  },
  {
   "cell_type": "code",
   "execution_count": null,
   "id": "c7a46668",
   "metadata": {},
   "outputs": [],
   "source": []
  }
 ],
 "metadata": {
  "kernelspec": {
   "display_name": "Python 3 (ipykernel)",
   "language": "python",
   "name": "python3"
  },
  "language_info": {
   "codemirror_mode": {
    "name": "ipython",
    "version": 3
   },
   "file_extension": ".py",
   "mimetype": "text/x-python",
   "name": "python",
   "nbconvert_exporter": "python",
   "pygments_lexer": "ipython3",
   "version": "3.9.13"
  }
 },
 "nbformat": 4,
 "nbformat_minor": 5
}
