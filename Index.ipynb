{
 "cells": [
  {
   "cell_type": "code",
   "execution_count": 1,
   "id": "03a257d5",
   "metadata": {},
   "outputs": [],
   "source": [
    "#DOWNLOADING DATA##"
   ]
  },
  {
   "cell_type": "code",
   "execution_count": 2,
   "id": "68babfad",
   "metadata": {},
   "outputs": [],
   "source": [
    "import pandas as pd"
   ]
  },
  {
   "cell_type": "code",
   "execution_count": 3,
   "id": "5400d510",
   "metadata": {},
   "outputs": [],
   "source": [
    "gitCloudRepo='https://github.com/543-Van-Deliverables/Deliverable-1/raw/main/'\n",
    "fileName=\"us-counties-2020.csv\""
   ]
  },
  {
   "cell_type": "code",
   "execution_count": 4,
   "id": "ab06d2d3",
   "metadata": {},
   "outputs": [],
   "source": [
    "COVIDSTATE=pd.read_csv(gitCloudRepo + fileName)"
   ]
  },
  {
   "cell_type": "code",
   "execution_count": null,
   "id": "fe574732",
   "metadata": {},
   "outputs": [],
   "source": [
    "##CLEANING DATA##"
   ]
  },
  {
   "cell_type": "code",
   "execution_count": 5,
   "id": "da78f03d",
   "metadata": {},
   "outputs": [
    {
     "data": {
      "text/plain": [
       "Index(['date', 'geoid', 'county', 'state', 'cases', 'cases_avg',\n",
       "       'cases_avg_per_100k', 'deaths', 'deaths_avg', 'deaths_avg_per_100k'],\n",
       "      dtype='object')"
      ]
     },
     "execution_count": 5,
     "metadata": {},
     "output_type": "execute_result"
    }
   ],
   "source": [
    "(COVIDSTATE.columns)"
   ]
  },
  {
   "cell_type": "code",
   "execution_count": 6,
   "id": "5d37da11",
   "metadata": {},
   "outputs": [],
   "source": [
    "toDrop=['geoid','county','cases_avg','cases_avg_per_100k','deaths_avg','deaths_avg_per_100k']\n",
    "COVIDSTATE.drop(columns=toDrop, inplace=True)"
   ]
  },
  {
   "cell_type": "code",
   "execution_count": 9,
   "id": "0befbf98",
   "metadata": {},
   "outputs": [],
   "source": [
    "COVIDSTATE.rename(columns={'date':'Month','cases':'COVIDCases','deaths':'COVIDDeaths','state':'State'}, inplace=True)"
   ]
  },
  {
   "cell_type": "code",
   "execution_count": null,
   "id": "d8cb1bb1",
   "metadata": {},
   "outputs": [],
   "source": [
    "##FOTMATTING DATA##"
   ]
  },
  {
   "cell_type": "code",
   "execution_count": 10,
   "id": "0928738a",
   "metadata": {},
   "outputs": [
    {
     "data": {
      "text/html": [
       "<div>\n",
       "<style scoped>\n",
       "    .dataframe tbody tr th:only-of-type {\n",
       "        vertical-align: middle;\n",
       "    }\n",
       "\n",
       "    .dataframe tbody tr th {\n",
       "        vertical-align: top;\n",
       "    }\n",
       "\n",
       "    .dataframe thead th {\n",
       "        text-align: right;\n",
       "    }\n",
       "</style>\n",
       "<table border=\"1\" class=\"dataframe\">\n",
       "  <thead>\n",
       "    <tr style=\"text-align: right;\">\n",
       "      <th></th>\n",
       "      <th>Month</th>\n",
       "      <th>State</th>\n",
       "      <th>COVIDCases</th>\n",
       "      <th>COVIDDeaths</th>\n",
       "    </tr>\n",
       "  </thead>\n",
       "  <tbody>\n",
       "    <tr>\n",
       "      <th>0</th>\n",
       "      <td>January</td>\n",
       "      <td>Washington</td>\n",
       "      <td>1</td>\n",
       "      <td>0</td>\n",
       "    </tr>\n",
       "    <tr>\n",
       "      <th>1</th>\n",
       "      <td>January</td>\n",
       "      <td>Washington</td>\n",
       "      <td>0</td>\n",
       "      <td>0</td>\n",
       "    </tr>\n",
       "    <tr>\n",
       "      <th>2</th>\n",
       "      <td>January</td>\n",
       "      <td>Washington</td>\n",
       "      <td>0</td>\n",
       "      <td>0</td>\n",
       "    </tr>\n",
       "    <tr>\n",
       "      <th>3</th>\n",
       "      <td>January</td>\n",
       "      <td>Washington</td>\n",
       "      <td>0</td>\n",
       "      <td>0</td>\n",
       "    </tr>\n",
       "    <tr>\n",
       "      <th>4</th>\n",
       "      <td>January</td>\n",
       "      <td>Illinois</td>\n",
       "      <td>1</td>\n",
       "      <td>0</td>\n",
       "    </tr>\n",
       "    <tr>\n",
       "      <th>...</th>\n",
       "      <td>...</td>\n",
       "      <td>...</td>\n",
       "      <td>...</td>\n",
       "      <td>...</td>\n",
       "    </tr>\n",
       "    <tr>\n",
       "      <th>890356</th>\n",
       "      <td>December</td>\n",
       "      <td>Northern Mariana Islands</td>\n",
       "      <td>0</td>\n",
       "      <td>0</td>\n",
       "    </tr>\n",
       "    <tr>\n",
       "      <th>890357</th>\n",
       "      <td>December</td>\n",
       "      <td>Virgin Islands</td>\n",
       "      <td>0</td>\n",
       "      <td>0</td>\n",
       "    </tr>\n",
       "    <tr>\n",
       "      <th>890358</th>\n",
       "      <td>December</td>\n",
       "      <td>Virgin Islands</td>\n",
       "      <td>8</td>\n",
       "      <td>0</td>\n",
       "    </tr>\n",
       "    <tr>\n",
       "      <th>890359</th>\n",
       "      <td>December</td>\n",
       "      <td>Virgin Islands</td>\n",
       "      <td>6</td>\n",
       "      <td>0</td>\n",
       "    </tr>\n",
       "    <tr>\n",
       "      <th>890360</th>\n",
       "      <td>December</td>\n",
       "      <td>Virgin Islands</td>\n",
       "      <td>7</td>\n",
       "      <td>0</td>\n",
       "    </tr>\n",
       "  </tbody>\n",
       "</table>\n",
       "<p>890361 rows × 4 columns</p>\n",
       "</div>"
      ],
      "text/plain": [
       "           Month                     State  COVIDCases  COVIDDeaths\n",
       "0        January                Washington           1            0\n",
       "1        January                Washington           0            0\n",
       "2        January                Washington           0            0\n",
       "3        January                Washington           0            0\n",
       "4        January                  Illinois           1            0\n",
       "...          ...                       ...         ...          ...\n",
       "890356  December  Northern Mariana Islands           0            0\n",
       "890357  December            Virgin Islands           0            0\n",
       "890358  December            Virgin Islands           8            0\n",
       "890359  December            Virgin Islands           6            0\n",
       "890360  December            Virgin Islands           7            0\n",
       "\n",
       "[890361 rows x 4 columns]"
      ]
     },
     "execution_count": 10,
     "metadata": {},
     "output_type": "execute_result"
    }
   ],
   "source": [
    "COVIDSTATE.replace(\"\\,\",'',regex=True)"
   ]
  },
  {
   "cell_type": "code",
   "execution_count": 11,
   "id": "4950010f",
   "metadata": {},
   "outputs": [],
   "source": [
    "COVIDSTATEFinal=COVIDSTATE.replace(\"\\,\",'',regex=True).copy()"
   ]
  },
  {
   "cell_type": "code",
   "execution_count": 12,
   "id": "fac80de2",
   "metadata": {},
   "outputs": [
    {
     "name": "stdout",
     "output_type": "stream",
     "text": [
      "<class 'pandas.core.frame.DataFrame'>\n",
      "RangeIndex: 890361 entries, 0 to 890360\n",
      "Data columns (total 4 columns):\n",
      " #   Column       Non-Null Count   Dtype \n",
      "---  ------       --------------   ----- \n",
      " 0   Month        890361 non-null  object\n",
      " 1   State        890361 non-null  object\n",
      " 2   COVIDCases   890361 non-null  int64 \n",
      " 3   COVIDDeaths  890361 non-null  int64 \n",
      "dtypes: int64(2), object(2)\n",
      "memory usage: 27.2+ MB\n"
     ]
    }
   ],
   "source": [
    "COVIDSTATEFinal.info()"
   ]
  },
  {
   "cell_type": "code",
   "execution_count": null,
   "id": "8a63ccfd",
   "metadata": {},
   "outputs": [],
   "source": [
    "##EXPORTING DATA TO CSV##"
   ]
  },
  {
   "cell_type": "code",
   "execution_count": 13,
   "id": "854f7264",
   "metadata": {},
   "outputs": [],
   "source": [
    "COVIDSTATEFinal.to_csv('COVIDSTATE.csv', index=False)"
   ]
  },
  {
   "cell_type": "code",
   "execution_count": null,
   "id": "5dc2d96c",
   "metadata": {},
   "outputs": [],
   "source": []
  }
 ],
 "metadata": {
  "kernelspec": {
   "display_name": "Python 3 (ipykernel)",
   "language": "python",
   "name": "python3"
  },
  "language_info": {
   "codemirror_mode": {
    "name": "ipython",
    "version": 3
   },
   "file_extension": ".py",
   "mimetype": "text/x-python",
   "name": "python",
   "nbconvert_exporter": "python",
   "pygments_lexer": "ipython3",
   "version": "3.9.13"
  }
 },
 "nbformat": 4,
 "nbformat_minor": 5
}
