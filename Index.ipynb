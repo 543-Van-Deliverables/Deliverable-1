{
 "cells": [
  {
   "cell_type": "code",
   "execution_count": 82,
   "id": "71f437e5",
   "metadata": {},
   "outputs": [],
   "source": [
    "#DOWNLOADING DATA##"
   ]
  },
  {
   "cell_type": "code",
   "execution_count": 83,
   "id": "d785a18c",
   "metadata": {},
   "outputs": [],
   "source": [
    "import pandas as pd"
   ]
  },
  {
   "cell_type": "code",
   "execution_count": 84,
   "id": "e0616e5b",
   "metadata": {},
   "outputs": [],
   "source": [
    "gitCloudRepo='https://github.com/543-Van-Deliverables/Deliverable-1/raw/main/'\n",
    "fileName=\"us-counties-2020.csv\""
   ]
  },
  {
   "cell_type": "code",
   "execution_count": 85,
   "id": "71e39a8f",
   "metadata": {},
   "outputs": [],
   "source": [
    "COVIDSTATECASES=pd.read_csv(gitCloudRepo + fileName)"
   ]
  },
  {
   "cell_type": "code",
   "execution_count": 86,
   "id": "84244864",
   "metadata": {},
   "outputs": [],
   "source": [
    "COVIDSTATEDEATHS=pd.read_csv(gitCloudRepo + fileName)"
   ]
  },
  {
   "cell_type": "code",
   "execution_count": 87,
   "id": "dc628945",
   "metadata": {},
   "outputs": [],
   "source": [
    "##CLEANING DATA##"
   ]
  },
  {
   "cell_type": "code",
   "execution_count": 88,
   "id": "899b6373",
   "metadata": {},
   "outputs": [
    {
     "data": {
      "text/plain": [
       "(Index(['date', 'geoid', 'county', 'state', 'cases', 'cases_avg',\n",
       "        'cases_avg_per_100k', 'deaths', 'deaths_avg', 'deaths_avg_per_100k'],\n",
       "       dtype='object'),\n",
       " Index(['date', 'geoid', 'county', 'state', 'cases', 'cases_avg',\n",
       "        'cases_avg_per_100k', 'deaths', 'deaths_avg', 'deaths_avg_per_100k'],\n",
       "       dtype='object'))"
      ]
     },
     "execution_count": 88,
     "metadata": {},
     "output_type": "execute_result"
    }
   ],
   "source": [
    "(COVIDSTATECASES.columns,COVIDSTATEDEATHS.columns)"
   ]
  },
  {
   "cell_type": "code",
   "execution_count": 89,
   "id": "562233f4",
   "metadata": {},
   "outputs": [],
   "source": [
    "toDrop=['geoid','county','cases_avg','cases_avg_per_100k','deaths_avg','deaths_avg_per_100k','deaths']\n",
    "COVIDSTATECASES.drop(columns=toDrop, inplace=True)"
   ]
  },
  {
   "cell_type": "code",
   "execution_count": 90,
   "id": "d9bfec84",
   "metadata": {},
   "outputs": [],
   "source": [
    "toDrop=['geoid','county','cases_avg','cases_avg_per_100k','deaths_avg','deaths_avg_per_100k','cases']\n",
    "COVIDSTATEDEATHS.drop(columns=toDrop, inplace=True)"
   ]
  },
  {
   "cell_type": "code",
   "execution_count": 91,
   "id": "61fe8c6c",
   "metadata": {},
   "outputs": [],
   "source": [
    "COVIDSTATECASES.rename(columns={'date':'Month','cases':'COVIDCases','state':'State'}, inplace=True)"
   ]
  },
  {
   "cell_type": "code",
   "execution_count": 92,
   "id": "fa47a17e",
   "metadata": {},
   "outputs": [],
   "source": [
    "COVIDSTATEDEATHS.rename(columns={'date':'Month','deaths':'COVIDDeaths','state':'State'}, inplace=True)"
   ]
  },
  {
   "cell_type": "code",
   "execution_count": 93,
   "id": "e3dbddfe",
   "metadata": {},
   "outputs": [],
   "source": [
    "##FOTMATTING DATA##"
   ]
  },
  {
   "cell_type": "code",
   "execution_count": 94,
   "id": "75c90fb4",
   "metadata": {},
   "outputs": [
    {
     "data": {
      "text/html": [
       "<div>\n",
       "<style scoped>\n",
       "    .dataframe tbody tr th:only-of-type {\n",
       "        vertical-align: middle;\n",
       "    }\n",
       "\n",
       "    .dataframe tbody tr th {\n",
       "        vertical-align: top;\n",
       "    }\n",
       "\n",
       "    .dataframe thead th {\n",
       "        text-align: right;\n",
       "    }\n",
       "</style>\n",
       "<table border=\"1\" class=\"dataframe\">\n",
       "  <thead>\n",
       "    <tr style=\"text-align: right;\">\n",
       "      <th></th>\n",
       "      <th>Month</th>\n",
       "      <th>State</th>\n",
       "      <th>COVIDCases</th>\n",
       "    </tr>\n",
       "  </thead>\n",
       "  <tbody>\n",
       "    <tr>\n",
       "      <th>0</th>\n",
       "      <td>January</td>\n",
       "      <td>Washington</td>\n",
       "      <td>1</td>\n",
       "    </tr>\n",
       "    <tr>\n",
       "      <th>1</th>\n",
       "      <td>January</td>\n",
       "      <td>Washington</td>\n",
       "      <td>0</td>\n",
       "    </tr>\n",
       "    <tr>\n",
       "      <th>2</th>\n",
       "      <td>January</td>\n",
       "      <td>Washington</td>\n",
       "      <td>0</td>\n",
       "    </tr>\n",
       "    <tr>\n",
       "      <th>3</th>\n",
       "      <td>January</td>\n",
       "      <td>Washington</td>\n",
       "      <td>0</td>\n",
       "    </tr>\n",
       "    <tr>\n",
       "      <th>4</th>\n",
       "      <td>January</td>\n",
       "      <td>Illinois</td>\n",
       "      <td>1</td>\n",
       "    </tr>\n",
       "    <tr>\n",
       "      <th>...</th>\n",
       "      <td>...</td>\n",
       "      <td>...</td>\n",
       "      <td>...</td>\n",
       "    </tr>\n",
       "    <tr>\n",
       "      <th>890356</th>\n",
       "      <td>December</td>\n",
       "      <td>Northern Mariana Islands</td>\n",
       "      <td>0</td>\n",
       "    </tr>\n",
       "    <tr>\n",
       "      <th>890357</th>\n",
       "      <td>December</td>\n",
       "      <td>Virgin Islands</td>\n",
       "      <td>0</td>\n",
       "    </tr>\n",
       "    <tr>\n",
       "      <th>890358</th>\n",
       "      <td>December</td>\n",
       "      <td>Virgin Islands</td>\n",
       "      <td>8</td>\n",
       "    </tr>\n",
       "    <tr>\n",
       "      <th>890359</th>\n",
       "      <td>December</td>\n",
       "      <td>Virgin Islands</td>\n",
       "      <td>6</td>\n",
       "    </tr>\n",
       "    <tr>\n",
       "      <th>890360</th>\n",
       "      <td>December</td>\n",
       "      <td>Virgin Islands</td>\n",
       "      <td>7</td>\n",
       "    </tr>\n",
       "  </tbody>\n",
       "</table>\n",
       "<p>890361 rows × 3 columns</p>\n",
       "</div>"
      ],
      "text/plain": [
       "           Month                     State  COVIDCases\n",
       "0        January                Washington           1\n",
       "1        January                Washington           0\n",
       "2        January                Washington           0\n",
       "3        January                Washington           0\n",
       "4        January                  Illinois           1\n",
       "...          ...                       ...         ...\n",
       "890356  December  Northern Mariana Islands           0\n",
       "890357  December            Virgin Islands           0\n",
       "890358  December            Virgin Islands           8\n",
       "890359  December            Virgin Islands           6\n",
       "890360  December            Virgin Islands           7\n",
       "\n",
       "[890361 rows x 3 columns]"
      ]
     },
     "execution_count": 94,
     "metadata": {},
     "output_type": "execute_result"
    }
   ],
   "source": [
    "COVIDSTATECASES.replace(\"\\,\",'',regex=True)"
   ]
  },
  {
   "cell_type": "code",
   "execution_count": 95,
   "id": "732837f7",
   "metadata": {},
   "outputs": [
    {
     "data": {
      "text/html": [
       "<div>\n",
       "<style scoped>\n",
       "    .dataframe tbody tr th:only-of-type {\n",
       "        vertical-align: middle;\n",
       "    }\n",
       "\n",
       "    .dataframe tbody tr th {\n",
       "        vertical-align: top;\n",
       "    }\n",
       "\n",
       "    .dataframe thead th {\n",
       "        text-align: right;\n",
       "    }\n",
       "</style>\n",
       "<table border=\"1\" class=\"dataframe\">\n",
       "  <thead>\n",
       "    <tr style=\"text-align: right;\">\n",
       "      <th></th>\n",
       "      <th>Month</th>\n",
       "      <th>State</th>\n",
       "      <th>COVIDDeaths</th>\n",
       "    </tr>\n",
       "  </thead>\n",
       "  <tbody>\n",
       "    <tr>\n",
       "      <th>0</th>\n",
       "      <td>January</td>\n",
       "      <td>Washington</td>\n",
       "      <td>0</td>\n",
       "    </tr>\n",
       "    <tr>\n",
       "      <th>1</th>\n",
       "      <td>January</td>\n",
       "      <td>Washington</td>\n",
       "      <td>0</td>\n",
       "    </tr>\n",
       "    <tr>\n",
       "      <th>2</th>\n",
       "      <td>January</td>\n",
       "      <td>Washington</td>\n",
       "      <td>0</td>\n",
       "    </tr>\n",
       "    <tr>\n",
       "      <th>3</th>\n",
       "      <td>January</td>\n",
       "      <td>Washington</td>\n",
       "      <td>0</td>\n",
       "    </tr>\n",
       "    <tr>\n",
       "      <th>4</th>\n",
       "      <td>January</td>\n",
       "      <td>Illinois</td>\n",
       "      <td>0</td>\n",
       "    </tr>\n",
       "    <tr>\n",
       "      <th>...</th>\n",
       "      <td>...</td>\n",
       "      <td>...</td>\n",
       "      <td>...</td>\n",
       "    </tr>\n",
       "    <tr>\n",
       "      <th>890356</th>\n",
       "      <td>December</td>\n",
       "      <td>Northern Mariana Islands</td>\n",
       "      <td>0</td>\n",
       "    </tr>\n",
       "    <tr>\n",
       "      <th>890357</th>\n",
       "      <td>December</td>\n",
       "      <td>Virgin Islands</td>\n",
       "      <td>0</td>\n",
       "    </tr>\n",
       "    <tr>\n",
       "      <th>890358</th>\n",
       "      <td>December</td>\n",
       "      <td>Virgin Islands</td>\n",
       "      <td>0</td>\n",
       "    </tr>\n",
       "    <tr>\n",
       "      <th>890359</th>\n",
       "      <td>December</td>\n",
       "      <td>Virgin Islands</td>\n",
       "      <td>0</td>\n",
       "    </tr>\n",
       "    <tr>\n",
       "      <th>890360</th>\n",
       "      <td>December</td>\n",
       "      <td>Virgin Islands</td>\n",
       "      <td>0</td>\n",
       "    </tr>\n",
       "  </tbody>\n",
       "</table>\n",
       "<p>890361 rows × 3 columns</p>\n",
       "</div>"
      ],
      "text/plain": [
       "           Month                     State  COVIDDeaths\n",
       "0        January                Washington            0\n",
       "1        January                Washington            0\n",
       "2        January                Washington            0\n",
       "3        January                Washington            0\n",
       "4        January                  Illinois            0\n",
       "...          ...                       ...          ...\n",
       "890356  December  Northern Mariana Islands            0\n",
       "890357  December            Virgin Islands            0\n",
       "890358  December            Virgin Islands            0\n",
       "890359  December            Virgin Islands            0\n",
       "890360  December            Virgin Islands            0\n",
       "\n",
       "[890361 rows x 3 columns]"
      ]
     },
     "execution_count": 95,
     "metadata": {},
     "output_type": "execute_result"
    }
   ],
   "source": [
    "COVIDSTATEDEATHS.replace(\"\\,\",'',regex=True)"
   ]
  },
  {
   "cell_type": "code",
   "execution_count": 96,
   "id": "670ffaea",
   "metadata": {},
   "outputs": [],
   "source": [
    "COVIDSTATECASESFinal=COVIDSTATECASES.replace(\"\\,\",'',regex=True).copy()"
   ]
  },
  {
   "cell_type": "code",
   "execution_count": 97,
   "id": "5cd20dea",
   "metadata": {},
   "outputs": [],
   "source": [
    "COVIDSTATEDEATHSFinal=COVIDSTATEDEATHS.replace(\"\\,\",'',regex=True).copy()"
   ]
  },
  {
   "cell_type": "code",
   "execution_count": 98,
   "id": "85e4b947",
   "metadata": {},
   "outputs": [
    {
     "name": "stdout",
     "output_type": "stream",
     "text": [
      "<class 'pandas.core.frame.DataFrame'>\n",
      "RangeIndex: 890361 entries, 0 to 890360\n",
      "Data columns (total 3 columns):\n",
      " #   Column      Non-Null Count   Dtype \n",
      "---  ------      --------------   ----- \n",
      " 0   Month       890361 non-null  object\n",
      " 1   State       890361 non-null  object\n",
      " 2   COVIDCases  890361 non-null  int64 \n",
      "dtypes: int64(1), object(2)\n",
      "memory usage: 20.4+ MB\n"
     ]
    }
   ],
   "source": [
    "COVIDSTATECASESFinal.info()"
   ]
  },
  {
   "cell_type": "code",
   "execution_count": 99,
   "id": "78b93b8e",
   "metadata": {},
   "outputs": [
    {
     "name": "stdout",
     "output_type": "stream",
     "text": [
      "<class 'pandas.core.frame.DataFrame'>\n",
      "RangeIndex: 890361 entries, 0 to 890360\n",
      "Data columns (total 3 columns):\n",
      " #   Column       Non-Null Count   Dtype \n",
      "---  ------       --------------   ----- \n",
      " 0   Month        890361 non-null  object\n",
      " 1   State        890361 non-null  object\n",
      " 2   COVIDDeaths  890361 non-null  int64 \n",
      "dtypes: int64(1), object(2)\n",
      "memory usage: 20.4+ MB\n"
     ]
    }
   ],
   "source": [
    "COVIDSTATEDEATHSFinal.info()"
   ]
  },
  {
   "cell_type": "code",
   "execution_count": 100,
   "id": "207eef72",
   "metadata": {},
   "outputs": [],
   "source": [
    "##EXPORTING DATA TO CSV##"
   ]
  },
  {
   "cell_type": "code",
   "execution_count": 101,
   "id": "70b9dd29",
   "metadata": {},
   "outputs": [],
   "source": [
    "COVIDSTATECASESFinal.to_csv('COVIDSTATECASES.csv', index=False)"
   ]
  },
  {
   "cell_type": "code",
   "execution_count": 102,
   "id": "9d536b56",
   "metadata": {},
   "outputs": [],
   "source": [
    "COVIDSTATEDEATHSFinal.to_csv('COVIDSTATEDEATHS.csv', index=False)"
   ]
  },
  {
   "cell_type": "code",
   "execution_count": null,
   "id": "335596e4",
   "metadata": {},
   "outputs": [],
   "source": []
  }
 ],
 "metadata": {
  "kernelspec": {
   "display_name": "Python 3 (ipykernel)",
   "language": "python",
   "name": "python3"
  },
  "language_info": {
   "codemirror_mode": {
    "name": "ipython",
    "version": 3
   },
   "file_extension": ".py",
   "mimetype": "text/x-python",
   "name": "python",
   "nbconvert_exporter": "python",
   "pygments_lexer": "ipython3",
   "version": "3.9.13"
  }
 },
 "nbformat": 4,
 "nbformat_minor": 5
}
